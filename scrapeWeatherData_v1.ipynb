{
 "cells": [
  {
   "cell_type": "code",
   "execution_count": 124,
   "metadata": {
    "collapsed": false
   },
   "outputs": [],
   "source": [
    "import requests\n",
    "import datetime\n",
    "import matplotlib.pyplot as plt\n",
    "from matplotlib.dates import DateFormatter\n",
    "import numpy as np\n"
   ]
  },
  {
   "cell_type": "code",
   "execution_count": 94,
   "metadata": {
    "collapsed": false
   },
   "outputs": [],
   "source": [
    "class WeatherHistory:\n",
    "  def __init__(self, date='20161001', addr1='Brazil', addr2='Brasilia'):\n",
    "    self.key = '0b8d95327c9db58e'\n",
    "    self.date = date\n",
    "    self.addr1 = addr1\n",
    "    self.addr2 = addr2\n",
    "    self.read()\n",
    "\n",
    "\n",
    "  def read(self):\n",
    "    self.url = ('http://api.wunderground.com/api/' + self.key \n",
    "                 + '/history_' + self.date + '/q/' + self.addr1 \n",
    "                 + '/' + self.addr2 + '.json')\n",
    "    self.data = requests.get(self.url).json()    \n",
    "    self.maxTemp = float(self.data['history']['dailysummary'][0]['maxtempm'])\n",
    "    self.meanTemp = float(self.data['history']['dailysummary'][0]['meantempm'])    \n",
    "    self.minTemp = float(self.data['history']['dailysummary'][0]['mintempm'])       \n",
    "    \n",
    "  def f2c(self, tempi):\n",
    "    tempm = (tempi - 32.0) / 1.8\n",
    "    return tempm"
   ]
  },
  {
   "cell_type": "code",
   "execution_count": 95,
   "metadata": {
    "collapsed": false
   },
   "outputs": [],
   "source": [
    "w = WeatherHistory(date='20161001', addr1='Brazil', addr2='Brasilia')"
   ]
  },
  {
   "cell_type": "code",
   "execution_count": 110,
   "metadata": {
    "collapsed": false
   },
   "outputs": [],
   "source": [
    "dateList = []\n",
    "date = datetime.date(2016,9,20)\n",
    "while(date < datetime.date(2016,10,21)):\n",
    "  dateList.append(date)\n",
    "  date = date + datetime.timedelta(days=1)\n",
    "\n",
    "meanTempList = []\n",
    "maxTempList = []\n",
    "minTempList = []\n",
    "  \n",
    "for date in dateList:\n",
    "  dateStr = date.strftime('%Y%m%d')\n",
    "  w = WeatherHistory(date=dateStr, addr1='Brazil', addr2='Brasilia')\n",
    "  meanTempList.append(w.meanTemp)\n",
    "  maxTempList.append(w.maxTemp)\n",
    "  minTempList.append(w.minTemp)  "
   ]
  },
  {
   "cell_type": "code",
   "execution_count": 130,
   "metadata": {
    "collapsed": false
   },
   "outputs": [
    {
     "data": {
      "text/plain": [
       "<matplotlib.figure.Figure at 0x7f6288c9b1d0>"
      ]
     },
     "metadata": {},
     "output_type": "display_data"
    },
    {
     "data": {
      "image/png": "[encoded data removed]",
      "text/plain": [
       "<matplotlib.figure.Figure at 0x7f6288c9b518>"
      ]
     },
     "metadata": {},
     "output_type": "display_data"
    }
   ],
   "source": [
    "plt.clf()\n",
    "fig, ax = plt.subplots()\n",
    "ax.plot(dateList, meanTempList,'o-')\n",
    "ax.set_xlim(dateList[0], dateList[-1])\n",
    "ax.set_ylim(19, 28)\n",
    "ax.xaxis.set_major_formatter(DateFormatter('%Y-%m-%d'))\n",
    "ax.fmt_xdata = DateFormatter('%Y-%m-%d %H:%M:%S')\n",
    "fig.autofmt_xdate()\n",
    "plt.show()"
   ]
  },
  {
   "cell_type": "code",
   "execution_count": null,
   "metadata": {
    "collapsed": true
   },
   "outputs": [],
   "source": []
  }
 ],
 "metadata": {
  "anaconda-cloud": {},
  "kernelspec": {
   "display_name": "Python [conda env:envScrapy]",
   "language": "python",
   "name": "conda-env-envScrapy-py"
  },
  "language_info": {
   "codemirror_mode": {
    "name": "ipython",
    "version": 3
   },
   "file_extension": ".py",
   "mimetype": "text/x-python",
   "name": "python",
   "nbconvert_exporter": "python",
   "pygments_lexer": "ipython3",
   "version": "3.5.2"
  }
 },
 "nbformat": 4,
 "nbformat_minor": 1
}
